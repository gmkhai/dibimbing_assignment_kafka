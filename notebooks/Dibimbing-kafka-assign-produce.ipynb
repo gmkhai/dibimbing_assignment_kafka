{
 "cells": [
  {
   "cell_type": "code",
   "execution_count": 1,
   "id": "e2829330",
   "metadata": {
    "tags": []
   },
   "outputs": [
    {
     "name": "stdout",
     "output_type": "stream",
     "text": [
      "libprotoc 3.21.12\n"
     ]
    }
   ],
   "source": [
    "# Check version protobuf and generate protobuf file\n",
    "\n",
    "!protoc --version\n",
    "!protoc --python_out=. 'proto/transaction_product.proto'"
   ]
  },
  {
   "cell_type": "code",
   "execution_count": 2,
   "id": "00a57298-4f89-419e-b49e-acc05ef80f8c",
   "metadata": {
    "tags": []
   },
   "outputs": [
    {
     "name": "stdout",
     "output_type": "stream",
     "text": [
      "Collecting faker-commerce\n",
      "  Downloading faker_commerce-1.0.4-py3-none-any.whl (3.3 kB)\n",
      "Requirement already satisfied: faker in /opt/conda/lib/python3.10/site-packages (from faker-commerce) (18.9.0)\n",
      "Requirement already satisfied: python-dateutil>=2.4 in /opt/conda/lib/python3.10/site-packages (from faker->faker-commerce) (2.8.2)\n",
      "Requirement already satisfied: six>=1.5 in /opt/conda/lib/python3.10/site-packages (from python-dateutil>=2.4->faker->faker-commerce) (1.16.0)\n",
      "Installing collected packages: faker-commerce\n",
      "Successfully installed faker-commerce-1.0.4\n"
     ]
    }
   ],
   "source": [
    "# Install library\n",
    "\n",
    "!pip install faker-commerce"
   ]
  },
  {
   "cell_type": "code",
   "execution_count": 3,
   "id": "1e7b5278-b9ae-48aa-9fb8-51d43f703c5b",
   "metadata": {
    "tags": []
   },
   "outputs": [],
   "source": [
    "# Import library\n",
    "\n",
    "import os\n",
    "import uuid\n",
    "import faker_commerce\n",
    "from datetime import datetime, timedelta\n",
    "from dotenv import load_dotenv\n",
    "from faker import Faker\n",
    "from kafka import KafkaProducer\n",
    "from pathlib import Path\n",
    "from proto import transaction_product_pb2\n",
    "from time import sleep"
   ]
  },
  {
   "cell_type": "code",
   "execution_count": 4,
   "id": "ae673b41-e02a-445f-b454-706e8b0f7067",
   "metadata": {
    "tags": []
   },
   "outputs": [
    {
     "data": {
      "text/plain": [
       "True"
      ]
     },
     "execution_count": 4,
     "metadata": {},
     "output_type": "execute_result"
    }
   ],
   "source": [
    "# Load environment file\n",
    "\n",
    "dotenv_path = Path('/resources/.env')\n",
    "load_dotenv(dotenv_path=dotenv_path)"
   ]
  },
  {
   "cell_type": "code",
   "execution_count": 5,
   "id": "6bc5c475-32b8-462f-b282-271af7e3d6c2",
   "metadata": {
    "tags": []
   },
   "outputs": [],
   "source": [
    "# Set kafka variable configuration\n",
    "\n",
    "kafka_host = os.getenv('KAFKA_HOST')\n",
    "kafka_host_broker_2 = os.getenv('KAFKA_BROKER_2_HOST')\n",
    "kafka_topic = os.getenv('topic')\n",
    "kafka_topic_partition = os.getenv('topic') + \"-1\""
   ]
  },
  {
   "cell_type": "code",
   "execution_count": 6,
   "id": "8512aa88-897e-43db-b457-ba41f2fb0b35",
   "metadata": {
    "tags": []
   },
   "outputs": [],
   "source": [
    "# Set faker for dummy data add ecommerce to faker\n",
    "\n",
    "faker = Faker()\n",
    "faker.add_provider(faker_commerce.Provider)"
   ]
  },
  {
   "cell_type": "code",
   "execution_count": 7,
   "id": "6aed730b-4a51-4188-b0c3-535756b18bf5",
   "metadata": {
    "tags": []
   },
   "outputs": [],
   "source": [
    "# Create Faker data with format protobuf\n",
    "\n",
    "class Datagenerator(object):\n",
    "    @staticmethod\n",
    "    def get_data():\n",
    "\n",
    "        # Random time stamp for random transaction range 5 second\n",
    "        timestamp = datetime.now() - timedelta(seconds=faker.random_int(min=0, max=5))\n",
    "        transaction = transaction_product_pb2.TransactionProduct()\n",
    "        transaction.id = uuid.uuid4().__str__()\n",
    "        transaction.product_name = faker.ecommerce_name()\n",
    "        transaction.customer_name = faker.name()\n",
    "        transaction.status = faker.random_element(elements=(\"checkout\", \"cancel\"))\n",
    "        transaction.timestamp = datetime.strftime(timestamp, \"%d-%m-%y %H:%M:%S\")\n",
    "        transaction.total_payment = faker.random_int(min=5000, max=5000000)\n",
    "        return transaction"
   ]
  },
  {
   "cell_type": "code",
   "execution_count": 8,
   "id": "3e3bad8a",
   "metadata": {
    "tags": []
   },
   "outputs": [],
   "source": [
    "# Create producer kafka using 2 broker with 2 replication\n",
    "\n",
    "producer = KafkaProducer(bootstrap_servers=[f'{kafka_host}:9092', f'{kafka_host_broker_2}:9095'], value_serializer=lambda v: v.SerializeToString())"
   ]
  },
  {
   "cell_type": "code",
   "execution_count": 9,
   "id": "824c0073",
   "metadata": {
    "tags": []
   },
   "outputs": [
    {
     "name": "stdout",
     "output_type": "stream",
     "text": [
      "id: \"151a9737-3fdf-4562-8492-4cda36730919\"\n",
      "product_name: \"Rustic Chips\"\n",
      "customer_name: \"Jacob Martin\"\n",
      "status: \"cancel\"\n",
      "timestamp: \"04-11-24 05:34:20\"\n",
      "total_payment: 3868427\n",
      "\n",
      "id: \"7520fc2e-dbf2-4701-9b45-bb3bcf5cf763\"\n",
      "product_name: \"Chicken\"\n",
      "customer_name: \"Michael Fernandez\"\n",
      "status: \"cancel\"\n",
      "timestamp: \"04-11-24 05:34:25\"\n",
      "total_payment: 3440949\n",
      "\n",
      "id: \"6a776c34-1bab-4af7-8087-2c2f91f81a74\"\n",
      "product_name: \"Practical Cotton Cheese\"\n",
      "customer_name: \"Daniel Bishop\"\n",
      "status: \"checkout\"\n",
      "timestamp: \"04-11-24 05:34:32\"\n",
      "total_payment: 245308\n",
      "\n",
      "id: \"8f504aa8-ed08-4d1f-b282-ca1b10217cf9\"\n",
      "product_name: \"Fantastic Plastic Pants\"\n",
      "customer_name: \"Stacey Willis\"\n",
      "status: \"checkout\"\n",
      "timestamp: \"04-11-24 05:34:34\"\n",
      "total_payment: 567413\n",
      "\n",
      "id: \"c1bbb8ba-3418-4e77-8322-ba4d1cc26c06\"\n",
      "product_name: \"Mouse\"\n",
      "customer_name: \"Laura Harris\"\n",
      "status: \"cancel\"\n",
      "timestamp: \"04-11-24 05:34:41\"\n",
      "total_payment: 2796100\n",
      "\n",
      "id: \"cae2fcb7-a581-492b-a69a-9418a7906063\"\n",
      "product_name: \"Gorgeous Keyboard\"\n",
      "customer_name: \"Geoffrey Lee\"\n",
      "status: \"cancel\"\n",
      "timestamp: \"04-11-24 05:34:48\"\n",
      "total_payment: 1503288\n",
      "\n",
      "id: \"b0a41e22-625d-4bcc-947c-3933bc9a8581\"\n",
      "product_name: \"Unbranded Keyboard\"\n",
      "customer_name: \"Julie Curtis\"\n",
      "status: \"cancel\"\n",
      "timestamp: \"04-11-24 05:34:51\"\n",
      "total_payment: 3537807\n",
      "\n",
      "id: \"b202a3d8-8fad-4a14-a4a7-63243f2f99b8\"\n",
      "product_name: \"Practical Plastic Hat\"\n",
      "customer_name: \"Michael Turner\"\n",
      "status: \"checkout\"\n",
      "timestamp: \"04-11-24 05:34:57\"\n",
      "total_payment: 4896215\n",
      "\n",
      "id: \"0c89ddb5-f3fc-4a61-8f65-82b42ca80c7a\"\n",
      "product_name: \"For repair Granite Pants\"\n",
      "customer_name: \"Linda Hayes\"\n",
      "status: \"checkout\"\n",
      "timestamp: \"04-11-24 05:35:03\"\n",
      "total_payment: 2279690\n",
      "\n",
      "id: \"3533b4a2-02b0-4171-83bf-251e9327237f\"\n",
      "product_name: \"For repair Fish\"\n",
      "customer_name: \"Charles Webster\"\n",
      "status: \"checkout\"\n",
      "timestamp: \"04-11-24 05:35:08\"\n",
      "total_payment: 3188814\n",
      "\n",
      "id: \"feb806ae-02bc-45b9-a36f-7add4a9372f4\"\n",
      "product_name: \"Handmade Plastic Cheese\"\n",
      "customer_name: \"Michael Franklin\"\n",
      "status: \"cancel\"\n",
      "timestamp: \"04-11-24 05:35:12\"\n",
      "total_payment: 2736637\n",
      "\n",
      "id: \"98bc69a1-2da1-4ba5-bc64-f22f4f2024a2\"\n",
      "product_name: \"Incredible Car\"\n",
      "customer_name: \"Susan Ali\"\n",
      "status: \"checkout\"\n",
      "timestamp: \"04-11-24 05:35:14\"\n",
      "total_payment: 1105363\n",
      "\n",
      "id: \"8b0fc192-f9e4-4328-b885-06c31fa06fc2\"\n",
      "product_name: \"Ball\"\n",
      "customer_name: \"Danielle Carney\"\n",
      "status: \"cancel\"\n",
      "timestamp: \"04-11-24 05:35:22\"\n",
      "total_payment: 4277160\n",
      "\n",
      "id: \"ab8f919d-9893-4d88-a4e0-84cfb1d65ddd\"\n",
      "product_name: \"Gorgeous Plastic Table\"\n",
      "customer_name: \"Christine Williams\"\n",
      "status: \"cancel\"\n",
      "timestamp: \"04-11-24 05:35:25\"\n",
      "total_payment: 3743854\n",
      "\n",
      "id: \"5bc9546d-0ad2-439d-a4ea-ec4e4e89ceab\"\n",
      "product_name: \"Licensed Steel Shoes\"\n",
      "customer_name: \"Joel Wells\"\n",
      "status: \"cancel\"\n",
      "timestamp: \"04-11-24 05:35:34\"\n",
      "total_payment: 276680\n",
      "\n",
      "id: \"511eb47b-b307-478e-8871-b3ae60b71bfe\"\n",
      "product_name: \"Fantastic Ball\"\n",
      "customer_name: \"David Vargas\"\n",
      "status: \"checkout\"\n",
      "timestamp: \"04-11-24 05:35:38\"\n",
      "total_payment: 2303092\n",
      "\n",
      "id: \"a4df9a8d-13ac-4455-b63b-e38a6bb16ca6\"\n",
      "product_name: \"Towels\"\n",
      "customer_name: \"John Reed\"\n",
      "status: \"cancel\"\n",
      "timestamp: \"04-11-24 05:35:43\"\n",
      "total_payment: 1163701\n",
      "\n",
      "id: \"e9dcc1b8-2079-4f2a-aba4-38510f863661\"\n",
      "product_name: \"Steel Pants\"\n",
      "customer_name: \"John Berry\"\n",
      "status: \"checkout\"\n",
      "timestamp: \"04-11-24 05:35:46\"\n",
      "total_payment: 2755860\n",
      "\n",
      "id: \"0c009f3f-b21d-4554-a1bd-17b9cd47b191\"\n",
      "product_name: \"New Cotton Pants\"\n",
      "customer_name: \"Christopher Wright\"\n",
      "status: \"checkout\"\n",
      "timestamp: \"04-11-24 05:35:49\"\n",
      "total_payment: 2199634\n",
      "\n",
      "id: \"7160091a-0984-46ab-99ef-8b571f68d94e\"\n",
      "product_name: \"Used Frozen Shirt\"\n",
      "customer_name: \"Dustin Harris\"\n",
      "status: \"cancel\"\n",
      "timestamp: \"04-11-24 05:35:57\"\n",
      "total_payment: 558789\n",
      "\n",
      "id: \"3fa00e26-4d80-4031-ba7b-48213051f758\"\n",
      "product_name: \"Unbranded Table\"\n",
      "customer_name: \"Susan Hunt\"\n",
      "status: \"cancel\"\n",
      "timestamp: \"04-11-24 05:36:03\"\n",
      "total_payment: 302035\n",
      "\n",
      "id: \"c620b8ae-c6e8-4875-86c1-f455c0eadf80\"\n",
      "product_name: \"Concrete Sausages\"\n",
      "customer_name: \"Nancy Smith\"\n",
      "status: \"checkout\"\n",
      "timestamp: \"04-11-24 05:36:05\"\n",
      "total_payment: 4337839\n",
      "\n",
      "id: \"ead6f25f-11a4-43e0-9c78-f23506bce5c2\"\n",
      "product_name: \"Shoes\"\n",
      "customer_name: \"Jeff Lindsey\"\n",
      "status: \"checkout\"\n",
      "timestamp: \"04-11-24 05:36:14\"\n",
      "total_payment: 2205585\n",
      "\n",
      "id: \"1eb2f6f4-14aa-43dc-b272-49fc664af444\"\n",
      "product_name: \"Unbranded Concrete Gloves\"\n",
      "customer_name: \"Charles Schmidt\"\n",
      "status: \"cancel\"\n",
      "timestamp: \"04-11-24 05:36:17\"\n",
      "total_payment: 930076\n",
      "\n",
      "id: \"10a849e0-8d95-463c-a425-34e5c2a121cb\"\n",
      "product_name: \"Ergonomic Concrete Chips\"\n",
      "customer_name: \"Mark Jones\"\n",
      "status: \"checkout\"\n",
      "timestamp: \"04-11-24 05:36:23\"\n",
      "total_payment: 221461\n",
      "\n",
      "id: \"fb630b52-010f-46f3-9a8b-a54793286dc5\"\n",
      "product_name: \"Refined Steel Bacon\"\n",
      "customer_name: \"Carlos Hess\"\n",
      "status: \"cancel\"\n",
      "timestamp: \"04-11-24 05:36:29\"\n",
      "total_payment: 2370267\n",
      "\n",
      "id: \"9f866c54-3be0-4c4d-87df-651459ce9779\"\n",
      "product_name: \"Generic Chicken\"\n",
      "customer_name: \"Jeremy Rodriguez\"\n",
      "status: \"checkout\"\n",
      "timestamp: \"04-11-24 05:36:30\"\n",
      "total_payment: 1199648\n",
      "\n"
     ]
    },
    {
     "ename": "KeyboardInterrupt",
     "evalue": "",
     "output_type": "error",
     "traceback": [
      "\u001b[0;31m---------------------------------------------------------------------------\u001b[0m",
      "\u001b[0;31mKeyboardInterrupt\u001b[0m                         Traceback (most recent call last)",
      "Cell \u001b[0;32mIn[9], line 7\u001b[0m\n\u001b[1;32m      5\u001b[0m response \u001b[38;5;241m=\u001b[39m producer\u001b[38;5;241m.\u001b[39msend(topic\u001b[38;5;241m=\u001b[39mkafka_topic, value\u001b[38;5;241m=\u001b[39mtransaction_data)\n\u001b[1;32m      6\u001b[0m \u001b[38;5;28mprint\u001b[39m(transaction_data)\n\u001b[0;32m----> 7\u001b[0m \u001b[43msleep\u001b[49m\u001b[43m(\u001b[49m\u001b[38;5;241;43m5\u001b[39;49m\u001b[43m)\u001b[49m\n",
      "\u001b[0;31mKeyboardInterrupt\u001b[0m: "
     ]
    }
   ],
   "source": [
    "# Send message using topic assignment with 4 partition\n",
    "\n",
    "for i in range(0, 200):\n",
    "    transaction_data = Datagenerator.get_data()\n",
    "    response = producer.send(topic=kafka_topic, value=transaction_data)\n",
    "    print(transaction_data)\n",
    "    sleep(5)"
   ]
  },
  {
   "cell_type": "code",
   "execution_count": null,
   "id": "80337fd8",
   "metadata": {},
   "outputs": [],
   "source": []
  }
 ],
 "metadata": {
  "kernelspec": {
   "display_name": "Python 3 (ipykernel)",
   "language": "python",
   "name": "python3"
  },
  "language_info": {
   "codemirror_mode": {
    "name": "ipython",
    "version": 3
   },
   "file_extension": ".py",
   "mimetype": "text/x-python",
   "name": "python",
   "nbconvert_exporter": "python",
   "pygments_lexer": "ipython3",
   "version": "3.10.10"
  },
  "toc-autonumbering": false,
  "toc-showcode": true,
  "toc-showmarkdowntxt": false,
  "widgets": {
   "application/vnd.jupyter.widget-state+json": {
    "state": {},
    "version_major": 2,
    "version_minor": 0
   }
  }
 },
 "nbformat": 4,
 "nbformat_minor": 5
}
