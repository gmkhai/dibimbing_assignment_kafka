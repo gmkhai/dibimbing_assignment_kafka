{
 "cells": [
  {
   "cell_type": "code",
   "execution_count": 1,
   "id": "46ef11ee-74b9-4529-854c-c5ff2cfa1d85",
   "metadata": {
    "tags": []
   },
   "outputs": [],
   "source": [
    "# Import library for consume message from kafka\n",
    "\n",
    "import os\n",
    "from dotenv import load_dotenv\n",
    "from kafka import KafkaConsumer\n",
    "from pathlib import Path\n",
    "from proto import transaction_product_pb2"
   ]
  },
  {
   "cell_type": "code",
   "execution_count": 2,
   "id": "cd1e9479",
   "metadata": {
    "tags": []
   },
   "outputs": [
    {
     "data": {
      "text/plain": [
       "True"
      ]
     },
     "execution_count": 2,
     "metadata": {},
     "output_type": "execute_result"
    }
   ],
   "source": [
    "# Load environment file\n",
    "\n",
    "dotenv_path = Path('/resources/.env')\n",
    "load_dotenv(dotenv_path=dotenv_path)"
   ]
  },
  {
   "cell_type": "code",
   "execution_count": 3,
   "id": "22ac60bb",
   "metadata": {
    "tags": []
   },
   "outputs": [],
   "source": [
    "# Set kafka variable configuration\n",
    "\n",
    "kafka_host = os.getenv('KAFKA_HOST')\n",
    "kafka_host_broker_2 = os.getenv('KAFKA_BROKER_2_HOST')\n",
    "kafka_topic = os.getenv('topic')\n",
    "kafka_topic_partition = os.getenv('topic') + \"-1\""
   ]
  },
  {
   "cell_type": "code",
   "execution_count": 4,
   "id": "f7fbfadd",
   "metadata": {
    "tags": []
   },
   "outputs": [],
   "source": [
    "# Because topic sent protobuf formating, message need to parse to object protobuf\n",
    "\n",
    "def parse_message(message):\n",
    "    \"\"\"\n",
    "    parse message from string to protobuf object\n",
    "\n",
    "    Args:\n",
    "        message (string): message string\n",
    "    \"\"\"\n",
    "    transaction = transaction_product_pb2.TransactionProduct()\n",
    "    transaction.ParseFromString(message)\n",
    "    return transaction"
   ]
  },
  {
   "cell_type": "code",
   "execution_count": 5,
   "id": "9da08260",
   "metadata": {
    "tags": []
   },
   "outputs": [],
   "source": [
    "# Create consume process\n",
    "\n",
    "consumer = KafkaConsumer(kafka_topic,\n",
    "                         group_id='dibimbing-assignment-group',\n",
    "                         bootstrap_servers=[f'{kafka_host}:9092', f'{kafka_host_broker_2}:9095'],\n",
    "                         value_deserializer=parse_message,\n",
    "                         auto_offset_reset='earliest',\n",
    "                         enable_auto_commit=False\n",
    "                         )\n"
   ]
  },
  {
   "cell_type": "code",
   "execution_count": null,
   "id": "802ea7b6",
   "metadata": {
    "tags": []
   },
   "outputs": [
    {
     "name": "stdout",
     "output_type": "stream",
     "text": [
      "====================\n",
      "MESSAGE COUNT\t\t:  1\n",
      "TOTAL PAYMENT\t\t:  245308\n",
      "====================\n",
      "AVERAGE TOTAL PAYMENT\t:  245308.0\n",
      "\n",
      "\n",
      "====================\n",
      "MESSAGE COUNT\t\t:  2\n",
      "TOTAL PAYMENT\t\t:  812721\n",
      "====================\n",
      "AVERAGE TOTAL PAYMENT\t:  406360.5\n",
      "\n",
      "\n",
      "====================\n",
      "MESSAGE COUNT\t\t:  3\n",
      "TOTAL PAYMENT\t\t:  5708936\n",
      "====================\n",
      "AVERAGE TOTAL PAYMENT\t:  1902978.6666666667\n",
      "\n",
      "\n",
      "====================\n",
      "MESSAGE COUNT\t\t:  4\n",
      "TOTAL PAYMENT\t\t:  7988626\n",
      "====================\n",
      "AVERAGE TOTAL PAYMENT\t:  1997156.5\n",
      "\n",
      "\n",
      "====================\n",
      "MESSAGE COUNT\t\t:  5\n",
      "TOTAL PAYMENT\t\t:  11177440\n",
      "====================\n",
      "AVERAGE TOTAL PAYMENT\t:  2235488.0\n",
      "\n",
      "\n",
      "====================\n",
      "MESSAGE COUNT\t\t:  6\n",
      "TOTAL PAYMENT\t\t:  12282803\n",
      "====================\n",
      "AVERAGE TOTAL PAYMENT\t:  2047133.8333333333\n",
      "\n",
      "\n",
      "====================\n",
      "MESSAGE COUNT\t\t:  7\n",
      "TOTAL PAYMENT\t\t:  14585895\n",
      "====================\n",
      "AVERAGE TOTAL PAYMENT\t:  2083699.2857142857\n",
      "\n",
      "\n",
      "====================\n",
      "MESSAGE COUNT\t\t:  8\n",
      "TOTAL PAYMENT\t\t:  17341755\n",
      "====================\n",
      "AVERAGE TOTAL PAYMENT\t:  2167719.375\n",
      "\n",
      "\n",
      "====================\n",
      "MESSAGE COUNT\t\t:  9\n",
      "TOTAL PAYMENT\t\t:  19541389\n",
      "====================\n",
      "AVERAGE TOTAL PAYMENT\t:  2171265.4444444445\n",
      "\n",
      "\n",
      "====================\n",
      "MESSAGE COUNT\t\t:  10\n",
      "TOTAL PAYMENT\t\t:  23879228\n",
      "====================\n",
      "AVERAGE TOTAL PAYMENT\t:  2387922.8\n",
      "\n",
      "\n",
      "====================\n",
      "MESSAGE COUNT\t\t:  11\n",
      "TOTAL PAYMENT\t\t:  26084813\n",
      "====================\n",
      "AVERAGE TOTAL PAYMENT\t:  2371346.6363636362\n",
      "\n",
      "\n",
      "====================\n",
      "MESSAGE COUNT\t\t:  12\n",
      "TOTAL PAYMENT\t\t:  26306274\n",
      "====================\n",
      "AVERAGE TOTAL PAYMENT\t:  2192189.5\n",
      "\n",
      "\n"
     ]
    }
   ],
   "source": [
    "# Load message from kafka topic when consume and check avarage total payment whare transaction status is checkout\n",
    "\n",
    "message_count = 0\n",
    "total_payment = 0\n",
    "\n",
    "\n",
    "for message in consumer:\n",
    "    transaction = message.value\n",
    "    if transaction.status == \"checkout\":\n",
    "        message_count += 1\n",
    "        total_payment += transaction.total_payment\n",
    "        print(\"=\"*20)\n",
    "        print(\"MESSAGE COUNT\\t\\t: \", message_count)\n",
    "        print(\"TOTAL PAYMENT\\t\\t: \", total_payment)\n",
    "        print(\"=\"*20)\n",
    "        print(\"AVERAGE TOTAL PAYMENT\\t: \", total_payment/message_count)\n",
    "        print(\"\")\n",
    "        print(\"\")\n"
   ]
  }
 ],
 "metadata": {
  "kernelspec": {
   "display_name": "Python 3 (ipykernel)",
   "language": "python",
   "name": "python3"
  },
  "language_info": {
   "codemirror_mode": {
    "name": "ipython",
    "version": 3
   },
   "file_extension": ".py",
   "mimetype": "text/x-python",
   "name": "python",
   "nbconvert_exporter": "python",
   "pygments_lexer": "ipython3",
   "version": "3.10.10"
  },
  "widgets": {
   "application/vnd.jupyter.widget-state+json": {
    "state": {},
    "version_major": 2,
    "version_minor": 0
   }
  }
 },
 "nbformat": 4,
 "nbformat_minor": 5
}
